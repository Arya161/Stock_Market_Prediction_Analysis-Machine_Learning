{
  "cells": [
    {
      "cell_type": "code",
      "source": [
        "import math\n",
        "import pandas_datareader as web\n",
        "import numpy as np\n",
        "import pandas as pd\n",
        "from sklearn.preprocessing import MinMaxScaler\n",
        "from keras.models import Sequential\n",
        "from keras.layers import Dense, LSTM\n",
        "import matplotlib.pyplot as plt\n",
        "plt.style.use('fivethirtyeight')\n"
      ],
      "metadata": {
        "id": "lJsiBbrEgMLI"
      },
      "execution_count": null,
      "outputs": []
    },
    {
      "cell_type": "code",
      "source": [
        "import yfinance as yf"
      ],
      "metadata": {
        "id": "NCC_ONY9iGrC"
      },
      "execution_count": null,
      "outputs": []
    },
    {
      "cell_type": "code",
      "source": [
        "df = yf.download('AAPL', start='2012-08-19', end='2023-04-19')\n",
        "df"
      ],
      "metadata": {
        "id": "O3K4CsZNiIlD",
        "outputId": "b5aa46e8-efa5-49e4-96c7-894cbc27d437",
        "colab": {
          "base_uri": "https://localhost:8080/",
          "height": 472
        }
      },
      "execution_count": null,
      "outputs": [
        {
          "output_type": "stream",
          "name": "stdout",
          "text": [
            "\r[*********************100%***********************]  1 of 1 completed\n"
          ]
        },
        {
          "output_type": "execute_result",
          "data": {
            "text/plain": [
              "                  Open        High         Low       Close   Adj Close  \\\n",
              "Date                                                                     \n",
              "2012-08-20   23.214643   23.755358   23.210714   23.755358   20.305431   \n",
              "2012-08-21   23.957857   24.102858   23.226070   23.430714   20.027925   \n",
              "2012-08-22   23.372143   23.892857   23.146786   23.888214   20.418997   \n",
              "2012-08-23   23.789642   23.924999   23.612499   23.665358   20.228497   \n",
              "2012-08-24   23.553928   23.910000   23.412500   23.686428   20.246510   \n",
              "...                ...         ...         ...         ...         ...   \n",
              "2023-04-12  161.220001  162.059998  159.779999  160.100006  160.100006   \n",
              "2023-04-13  161.630005  165.800003  161.419998  165.559998  165.559998   \n",
              "2023-04-14  164.589996  166.320007  163.820007  165.210007  165.210007   \n",
              "2023-04-17  165.089996  165.389999  164.029999  165.229996  165.229996   \n",
              "2023-04-18  166.100006  167.410004  165.649994  166.470001  166.470001   \n",
              "\n",
              "               Volume  \n",
              "Date                   \n",
              "2012-08-20  613384800  \n",
              "2012-08-21  812719600  \n",
              "2012-08-22  565322800  \n",
              "2012-08-23  420128800  \n",
              "2012-08-24  437340400  \n",
              "...               ...  \n",
              "2023-04-12   50133100  \n",
              "2023-04-13   68445600  \n",
              "2023-04-14   49337200  \n",
              "2023-04-17   41516200  \n",
              "2023-04-18   49923000  \n",
              "\n",
              "[2682 rows x 6 columns]"
            ],
            "text/html": [
              "\n",
              "  <div id=\"df-e9e59b77-c206-494b-80ed-e551829129f0\">\n",
              "    <div class=\"colab-df-container\">\n",
              "      <div>\n",
              "<style scoped>\n",
              "    .dataframe tbody tr th:only-of-type {\n",
              "        vertical-align: middle;\n",
              "    }\n",
              "\n",
              "    .dataframe tbody tr th {\n",
              "        vertical-align: top;\n",
              "    }\n",
              "\n",
              "    .dataframe thead th {\n",
              "        text-align: right;\n",
              "    }\n",
              "</style>\n",
              "<table border=\"1\" class=\"dataframe\">\n",
              "  <thead>\n",
              "    <tr style=\"text-align: right;\">\n",
              "      <th></th>\n",
              "      <th>Open</th>\n",
              "      <th>High</th>\n",
              "      <th>Low</th>\n",
              "      <th>Close</th>\n",
              "      <th>Adj Close</th>\n",
              "      <th>Volume</th>\n",
              "    </tr>\n",
              "    <tr>\n",
              "      <th>Date</th>\n",
              "      <th></th>\n",
              "      <th></th>\n",
              "      <th></th>\n",
              "      <th></th>\n",
              "      <th></th>\n",
              "      <th></th>\n",
              "    </tr>\n",
              "  </thead>\n",
              "  <tbody>\n",
              "    <tr>\n",
              "      <th>2012-08-20</th>\n",
              "      <td>23.214643</td>\n",
              "      <td>23.755358</td>\n",
              "      <td>23.210714</td>\n",
              "      <td>23.755358</td>\n",
              "      <td>20.305431</td>\n",
              "      <td>613384800</td>\n",
              "    </tr>\n",
              "    <tr>\n",
              "      <th>2012-08-21</th>\n",
              "      <td>23.957857</td>\n",
              "      <td>24.102858</td>\n",
              "      <td>23.226070</td>\n",
              "      <td>23.430714</td>\n",
              "      <td>20.027925</td>\n",
              "      <td>812719600</td>\n",
              "    </tr>\n",
              "    <tr>\n",
              "      <th>2012-08-22</th>\n",
              "      <td>23.372143</td>\n",
              "      <td>23.892857</td>\n",
              "      <td>23.146786</td>\n",
              "      <td>23.888214</td>\n",
              "      <td>20.418997</td>\n",
              "      <td>565322800</td>\n",
              "    </tr>\n",
              "    <tr>\n",
              "      <th>2012-08-23</th>\n",
              "      <td>23.789642</td>\n",
              "      <td>23.924999</td>\n",
              "      <td>23.612499</td>\n",
              "      <td>23.665358</td>\n",
              "      <td>20.228497</td>\n",
              "      <td>420128800</td>\n",
              "    </tr>\n",
              "    <tr>\n",
              "      <th>2012-08-24</th>\n",
              "      <td>23.553928</td>\n",
              "      <td>23.910000</td>\n",
              "      <td>23.412500</td>\n",
              "      <td>23.686428</td>\n",
              "      <td>20.246510</td>\n",
              "      <td>437340400</td>\n",
              "    </tr>\n",
              "    <tr>\n",
              "      <th>...</th>\n",
              "      <td>...</td>\n",
              "      <td>...</td>\n",
              "      <td>...</td>\n",
              "      <td>...</td>\n",
              "      <td>...</td>\n",
              "      <td>...</td>\n",
              "    </tr>\n",
              "    <tr>\n",
              "      <th>2023-04-12</th>\n",
              "      <td>161.220001</td>\n",
              "      <td>162.059998</td>\n",
              "      <td>159.779999</td>\n",
              "      <td>160.100006</td>\n",
              "      <td>160.100006</td>\n",
              "      <td>50133100</td>\n",
              "    </tr>\n",
              "    <tr>\n",
              "      <th>2023-04-13</th>\n",
              "      <td>161.630005</td>\n",
              "      <td>165.800003</td>\n",
              "      <td>161.419998</td>\n",
              "      <td>165.559998</td>\n",
              "      <td>165.559998</td>\n",
              "      <td>68445600</td>\n",
              "    </tr>\n",
              "    <tr>\n",
              "      <th>2023-04-14</th>\n",
              "      <td>164.589996</td>\n",
              "      <td>166.320007</td>\n",
              "      <td>163.820007</td>\n",
              "      <td>165.210007</td>\n",
              "      <td>165.210007</td>\n",
              "      <td>49337200</td>\n",
              "    </tr>\n",
              "    <tr>\n",
              "      <th>2023-04-17</th>\n",
              "      <td>165.089996</td>\n",
              "      <td>165.389999</td>\n",
              "      <td>164.029999</td>\n",
              "      <td>165.229996</td>\n",
              "      <td>165.229996</td>\n",
              "      <td>41516200</td>\n",
              "    </tr>\n",
              "    <tr>\n",
              "      <th>2023-04-18</th>\n",
              "      <td>166.100006</td>\n",
              "      <td>167.410004</td>\n",
              "      <td>165.649994</td>\n",
              "      <td>166.470001</td>\n",
              "      <td>166.470001</td>\n",
              "      <td>49923000</td>\n",
              "    </tr>\n",
              "  </tbody>\n",
              "</table>\n",
              "<p>2682 rows × 6 columns</p>\n",
              "</div>\n",
              "      <button class=\"colab-df-convert\" onclick=\"convertToInteractive('df-e9e59b77-c206-494b-80ed-e551829129f0')\"\n",
              "              title=\"Convert this dataframe to an interactive table.\"\n",
              "              style=\"display:none;\">\n",
              "        \n",
              "  <svg xmlns=\"http://www.w3.org/2000/svg\" height=\"24px\"viewBox=\"0 0 24 24\"\n",
              "       width=\"24px\">\n",
              "    <path d=\"M0 0h24v24H0V0z\" fill=\"none\"/>\n",
              "    <path d=\"M18.56 5.44l.94 2.06.94-2.06 2.06-.94-2.06-.94-.94-2.06-.94 2.06-2.06.94zm-11 1L8.5 8.5l.94-2.06 2.06-.94-2.06-.94L8.5 2.5l-.94 2.06-2.06.94zm10 10l.94 2.06.94-2.06 2.06-.94-2.06-.94-.94-2.06-.94 2.06-2.06.94z\"/><path d=\"M17.41 7.96l-1.37-1.37c-.4-.4-.92-.59-1.43-.59-.52 0-1.04.2-1.43.59L10.3 9.45l-7.72 7.72c-.78.78-.78 2.05 0 2.83L4 21.41c.39.39.9.59 1.41.59.51 0 1.02-.2 1.41-.59l7.78-7.78 2.81-2.81c.8-.78.8-2.07 0-2.86zM5.41 20L4 18.59l7.72-7.72 1.47 1.35L5.41 20z\"/>\n",
              "  </svg>\n",
              "      </button>\n",
              "      \n",
              "  <style>\n",
              "    .colab-df-container {\n",
              "      display:flex;\n",
              "      flex-wrap:wrap;\n",
              "      gap: 12px;\n",
              "    }\n",
              "\n",
              "    .colab-df-convert {\n",
              "      background-color: #E8F0FE;\n",
              "      border: none;\n",
              "      border-radius: 50%;\n",
              "      cursor: pointer;\n",
              "      display: none;\n",
              "      fill: #1967D2;\n",
              "      height: 32px;\n",
              "      padding: 0 0 0 0;\n",
              "      width: 32px;\n",
              "    }\n",
              "\n",
              "    .colab-df-convert:hover {\n",
              "      background-color: #E2EBFA;\n",
              "      box-shadow: 0px 1px 2px rgba(60, 64, 67, 0.3), 0px 1px 3px 1px rgba(60, 64, 67, 0.15);\n",
              "      fill: #174EA6;\n",
              "    }\n",
              "\n",
              "    [theme=dark] .colab-df-convert {\n",
              "      background-color: #3B4455;\n",
              "      fill: #D2E3FC;\n",
              "    }\n",
              "\n",
              "    [theme=dark] .colab-df-convert:hover {\n",
              "      background-color: #434B5C;\n",
              "      box-shadow: 0px 1px 3px 1px rgba(0, 0, 0, 0.15);\n",
              "      filter: drop-shadow(0px 1px 2px rgba(0, 0, 0, 0.3));\n",
              "      fill: #FFFFFF;\n",
              "    }\n",
              "  </style>\n",
              "\n",
              "      <script>\n",
              "        const buttonEl =\n",
              "          document.querySelector('#df-e9e59b77-c206-494b-80ed-e551829129f0 button.colab-df-convert');\n",
              "        buttonEl.style.display =\n",
              "          google.colab.kernel.accessAllowed ? 'block' : 'none';\n",
              "\n",
              "        async function convertToInteractive(key) {\n",
              "          const element = document.querySelector('#df-e9e59b77-c206-494b-80ed-e551829129f0');\n",
              "          const dataTable =\n",
              "            await google.colab.kernel.invokeFunction('convertToInteractive',\n",
              "                                                     [key], {});\n",
              "          if (!dataTable) return;\n",
              "\n",
              "          const docLinkHtml = 'Like what you see? Visit the ' +\n",
              "            '<a target=\"_blank\" href=https://colab.research.google.com/notebooks/data_table.ipynb>data table notebook</a>'\n",
              "            + ' to learn more about interactive tables.';\n",
              "          element.innerHTML = '';\n",
              "          dataTable['output_type'] = 'display_data';\n",
              "          await google.colab.output.renderOutput(dataTable, element);\n",
              "          const docLink = document.createElement('div');\n",
              "          docLink.innerHTML = docLinkHtml;\n",
              "          element.appendChild(docLink);\n",
              "        }\n",
              "      </script>\n",
              "    </div>\n",
              "  </div>\n",
              "  "
            ]
          },
          "metadata": {},
          "execution_count": 3
        }
      ]
    },
    {
      "cell_type": "code",
      "source": [
        "#Getting the number of rows and columns in the dataset\n",
        "df.shape"
      ],
      "metadata": {
        "id": "nwibgsuSiRMf",
        "outputId": "9e78037f-61de-4956-d6f9-50d865c5f92c",
        "colab": {
          "base_uri": "https://localhost:8080/"
        }
      },
      "execution_count": null,
      "outputs": [
        {
          "output_type": "execute_result",
          "data": {
            "text/plain": [
              "(2682, 6)"
            ]
          },
          "metadata": {},
          "execution_count": 4
        }
      ]
    },
    {
      "cell_type": "code",
      "source": [
        "#Shaping the closing price\n",
        "plt.figure(figsize = (16,8))\n",
        "plt.title(\"Close Price History\")\n",
        "plt.plot(df[\"Close\"])\n",
        "plt.xlabel(\"Date\", fontsize =18)\n",
        "plt.ylabel(\"Close price USD ($)\", fontsize = 18)\n",
        "plt.show()"
      ],
      "metadata": {
        "id": "rrr_A2NHiXWU",
        "outputId": "de99264f-4c05-4f8b-a71e-4f57152b5f2e",
        "colab": {
          "base_uri": "https://localhost:8080/",
          "height": 441
        }
      },
      "execution_count": null,
      "outputs": [
        {
          "output_type": "display_data",
          "data": {
            "text/plain": [
              "<Figure size 1600x800 with 1 Axes>"
            ],
            "image/png": "[encoded data removed]"
          },
          "metadata": {}
        }
      ]
    },
    {
      "cell_type": "code",
      "source": [
        "#Getting the closing price info only\n",
        "data = df.filter([\"Close\"])"
      ],
      "metadata": {
        "id": "PtXhaPTVilUg"
      },
      "execution_count": null,
      "outputs": []
    },
    {
      "cell_type": "code",
      "source": [
        "#Converting the dataframe to an array\n",
        "dataset = data.values"
      ],
      "metadata": {
        "id": "wEfl-XNnitDu"
      },
      "execution_count": null,
      "outputs": []
    },
    {
      "cell_type": "code",
      "source": [
        "#Get the number of rows to train the model on\n",
        "\n",
        "training_data_len = math.ceil(len(dataset)*0.8)\n",
        "\n",
        "training_data_len"
      ],
      "metadata": {
        "id": "nOIJPMpMi0uL",
        "outputId": "542ad101-1d16-42ca-9325-95f06437a261",
        "colab": {
          "base_uri": "https://localhost:8080/"
        }
      },
      "execution_count": null,
      "outputs": [
        {
          "output_type": "execute_result",
          "data": {
            "text/plain": [
              "2146"
            ]
          },
          "metadata": {},
          "execution_count": 8
        }
      ]
    },
    {
      "cell_type": "code",
      "source": [
        "#Scale the data\n",
        "\n",
        "scaler = MinMaxScaler(feature_range=(0,1))\n",
        "scaled_data = scaler.fit_transform(dataset)"
      ],
      "metadata": {
        "id": "iE8ZMx9ni3-D"
      },
      "execution_count": null,
      "outputs": []
    },
    {
      "cell_type": "code",
      "source": [
        "# Print the scaled data\n",
        "print(scaled_data)"
      ],
      "metadata": {
        "id": "iC9mIQrXi68r",
        "outputId": "e491f4da-ddac-4b49-8a1a-7caec20e7ed4",
        "colab": {
          "base_uri": "https://localhost:8080/"
        }
      },
      "execution_count": null,
      "outputs": [
        {
          "output_type": "stream",
          "name": "stdout",
          "text": [
            "[[0.0583584 ]\n",
            " [0.05642671]\n",
            " [0.05914891]\n",
            " ...\n",
            " [0.90003726]\n",
            " [0.9001562 ]\n",
            " [0.90753444]]\n"
          ]
        }
      ]
    },
    {
      "cell_type": "code",
      "source": [
        "#Create the scaled training data set\n",
        "train_data = scaled_data[0:training_data_len, :]"
      ],
      "metadata": {
        "id": "jnHfzGWWjGmG"
      },
      "execution_count": null,
      "outputs": []
    },
    {
      "cell_type": "code",
      "source": [
        "#Spliting the data into x_train and y_train datasets\n",
        "x_train = []\n",
        "y_train = []\n",
        "\n",
        "for i in range (60, len(train_data)):\n",
        "    x_train.append(train_data[i-60:i, 0])\n",
        "    y_train.append(train_data[i,0])\n",
        "    if i <=61:\n",
        "        print (x_train)\n",
        "        print (y_train)\n",
        "        print ()"
      ],
      "metadata": {
        "id": "Nmk9VxH9jL1e",
        "outputId": "856c6696-3dda-4458-ae0e-22ea49d8a746",
        "colab": {
          "base_uri": "https://localhost:8080/"
        }
      },
      "execution_count": null,
      "outputs": [
        {
          "output_type": "stream",
          "name": "stdout",
          "text": [
            "[array([0.0583584 , 0.05642671, 0.05914891, 0.05782288, 0.05794825,\n",
            "       0.06059609, 0.06040908, 0.06012644, 0.05808638, 0.05837752,\n",
            "       0.0604452 , 0.05943793, 0.06072146, 0.06160762, 0.05784626,\n",
            "       0.05738937, 0.05934441, 0.06214738, 0.06391118, 0.06571748,\n",
            "       0.06617011, 0.06621049, 0.06548797, 0.06578335, 0.06380704,\n",
            "       0.06014132, 0.05836477, 0.06179461, 0.05877278, 0.05713436,\n",
            "       0.05754237, 0.05969717, 0.05870902, 0.05568932, 0.05262498,\n",
            "       0.05213197, 0.05320725, 0.05048504, 0.05082718, 0.05190034,\n",
            "       0.0550943 , 0.05399352, 0.05144982, 0.04660469, 0.05174521,\n",
            "       0.04735271, 0.0480901 , 0.04654093, 0.04536365, 0.0435191 ,\n",
            "       0.04377836, 0.03958349, 0.04124529, 0.04086914, 0.03558838,\n",
            "       0.03128513, 0.03326356, 0.03236466, 0.03237954, 0.03110025])]\n",
            "[0.028707429353137748]\n",
            "\n",
            "[array([0.0583584 , 0.05642671, 0.05914891, 0.05782288, 0.05794825,\n",
            "       0.06059609, 0.06040908, 0.06012644, 0.05808638, 0.05837752,\n",
            "       0.0604452 , 0.05943793, 0.06072146, 0.06160762, 0.05784626,\n",
            "       0.05738937, 0.05934441, 0.06214738, 0.06391118, 0.06571748,\n",
            "       0.06617011, 0.06621049, 0.06548797, 0.06578335, 0.06380704,\n",
            "       0.06014132, 0.05836477, 0.06179461, 0.05877278, 0.05713436,\n",
            "       0.05754237, 0.05969717, 0.05870902, 0.05568932, 0.05262498,\n",
            "       0.05213197, 0.05320725, 0.05048504, 0.05082718, 0.05190034,\n",
            "       0.0550943 , 0.05399352, 0.05144982, 0.04660469, 0.05174521,\n",
            "       0.04735271, 0.0480901 , 0.04654093, 0.04536365, 0.0435191 ,\n",
            "       0.04377836, 0.03958349, 0.04124529, 0.04086914, 0.03558838,\n",
            "       0.03128513, 0.03326356, 0.03236466, 0.03237954, 0.03110025]), array([0.05642671, 0.05914891, 0.05782288, 0.05794825, 0.06059609,\n",
            "       0.06040908, 0.06012644, 0.05808638, 0.05837752, 0.0604452 ,\n",
            "       0.05943793, 0.06072146, 0.06160762, 0.05784626, 0.05738937,\n",
            "       0.05934441, 0.06214738, 0.06391118, 0.06571748, 0.06617011,\n",
            "       0.06621049, 0.06548797, 0.06578335, 0.06380704, 0.06014132,\n",
            "       0.05836477, 0.06179461, 0.05877278, 0.05713436, 0.05754237,\n",
            "       0.05969717, 0.05870902, 0.05568932, 0.05262498, 0.05213197,\n",
            "       0.05320725, 0.05048504, 0.05082718, 0.05190034, 0.0550943 ,\n",
            "       0.05399352, 0.05144982, 0.04660469, 0.05174521, 0.04735271,\n",
            "       0.0480901 , 0.04654093, 0.04536365, 0.0435191 , 0.04377836,\n",
            "       0.03958349, 0.04124529, 0.04086914, 0.03558838, 0.03128513,\n",
            "       0.03326356, 0.03236466, 0.03237954, 0.03110025, 0.02870743])]\n",
            "[0.028707429353137748, 0.029145196025169864]\n",
            "\n"
          ]
        }
      ]
    },
    {
      "cell_type": "code",
      "source": [
        "#Convert the X_train and y_train to numpy arrays\n",
        "x_train, y_train = np.array(x_train), np.array(y_train)\n"
      ],
      "metadata": {
        "id": "N4_JwQ5AjU2G"
      },
      "execution_count": null,
      "outputs": []
    },
    {
      "cell_type": "code",
      "source": [
        "#reshape the data\n",
        "\n",
        "x_train = np.reshape(x_train, (x_train.shape[0], x_train.shape[1], 1))\n",
        "\n",
        "x_train.shape"
      ],
      "metadata": {
        "id": "PdSYYfGojViQ",
        "outputId": "8ac2de5e-75aa-4079-aae0-5eb1b344d124",
        "colab": {
          "base_uri": "https://localhost:8080/"
        }
      },
      "execution_count": null,
      "outputs": [
        {
          "output_type": "execute_result",
          "data": {
            "text/plain": [
              "(2086, 60, 1)"
            ]
          },
          "metadata": {},
          "execution_count": 14
        }
      ]
    },
    {
      "cell_type": "code",
      "source": [
        "#Build the LSTM model\n",
        "\n",
        "model = Sequential()\n",
        "model.add(LSTM(50, return_sequences=True, input_shape=(x_train.shape[1], 1)))\n",
        "model.add(LSTM(50, return_sequences=False))\n",
        "model.add(Dense(25))\n",
        "model.add(Dense(1))"
      ],
      "metadata": {
        "id": "vHyA2raIjYci"
      },
      "execution_count": null,
      "outputs": []
    },
    {
      "cell_type": "code",
      "source": [
        "model.summary()"
      ],
      "metadata": {
        "colab": {
          "base_uri": "https://localhost:8080/"
        },
        "id": "PTNZIAVOiTW8",
        "outputId": "dda553ed-dbee-4ccd-cefb-beacfe9569fd"
      },
      "execution_count": null,
      "outputs": [
        {
          "output_type": "stream",
          "name": "stdout",
          "text": [
            "Model: \"sequential\"\n",
            "_________________________________________________________________\n",
            " Layer (type)                Output Shape              Param #   \n",
            "=================================================================\n",
            " lstm (LSTM)                 (None, 60, 50)            10400     \n",
            "                                                                 \n",
            " lstm_1 (LSTM)               (None, 50)                20200     \n",
            "                                                                 \n",
            " dense (Dense)               (None, 25)                1275      \n",
            "                                                                 \n",
            " dense_1 (Dense)             (None, 1)                 26        \n",
            "                                                                 \n",
            "=================================================================\n",
            "Total params: 31,901\n",
            "Trainable params: 31,901\n",
            "Non-trainable params: 0\n",
            "_________________________________________________________________\n"
          ]
        }
      ]
    },
    {
      "cell_type": "code",
      "source": [
        "#Compile the model\n",
        "model.compile(optimizer=\"adam\", loss=\"mean_squared_error\")\n"
      ],
      "metadata": {
        "id": "RkW4ZkRyjaTQ"
      },
      "execution_count": null,
      "outputs": []
    },
    {
      "cell_type": "code",
      "source": [
        "#train the model\n",
        "model.fit(x_train, y_train, batch_size=32, epochs=20)\n"
      ],
      "metadata": {
        "id": "_udhVbuUjbOr",
        "outputId": "8e3a09f5-8b0f-4729-8d27-a16fa18f0476",
        "colab": {
          "base_uri": "https://localhost:8080/"
        }
      },
      "execution_count": null,
      "outputs": [
        {
          "output_type": "stream",
          "name": "stdout",
          "text": [
            "Epoch 1/20\n",
            "66/66 [==============================] - 10s 79ms/step - loss: 0.0026\n",
            "Epoch 2/20\n",
            "66/66 [==============================] - 4s 60ms/step - loss: 2.2159e-04\n",
            "Epoch 3/20\n",
            "66/66 [==============================] - 4s 60ms/step - loss: 1.8625e-04\n",
            "Epoch 4/20\n",
            "66/66 [==============================] - 5s 79ms/step - loss: 1.8288e-04\n",
            "Epoch 5/20\n",
            "66/66 [==============================] - 4s 61ms/step - loss: 1.9360e-04\n",
            "Epoch 6/20\n",
            "66/66 [==============================] - 4s 59ms/step - loss: 1.8648e-04\n",
            "Epoch 7/20\n",
            "66/66 [==============================] - 5s 79ms/step - loss: 1.8469e-04\n",
            "Epoch 8/20\n",
            "66/66 [==============================] - 4s 61ms/step - loss: 1.6533e-04\n",
            "Epoch 9/20\n",
            "66/66 [==============================] - 4s 60ms/step - loss: 1.7208e-04\n",
            "Epoch 10/20\n",
            "66/66 [==============================] - 7s 108ms/step - loss: 1.5438e-04\n",
            "Epoch 11/20\n",
            "66/66 [==============================] - 4s 59ms/step - loss: 1.4762e-04\n",
            "Epoch 12/20\n",
            "66/66 [==============================] - 5s 69ms/step - loss: 1.4525e-04\n",
            "Epoch 13/20\n",
            "66/66 [==============================] - 5s 68ms/step - loss: 1.4422e-04\n",
            "Epoch 14/20\n",
            "66/66 [==============================] - 4s 59ms/step - loss: 1.5495e-04\n",
            "Epoch 15/20\n",
            "66/66 [==============================] - 5s 69ms/step - loss: 1.2143e-04\n",
            "Epoch 16/20\n",
            "66/66 [==============================] - 4s 67ms/step - loss: 1.5303e-04\n",
            "Epoch 17/20\n",
            "66/66 [==============================] - 4s 60ms/step - loss: 1.2443e-04\n",
            "Epoch 18/20\n",
            "66/66 [==============================] - 5s 69ms/step - loss: 1.2988e-04\n",
            "Epoch 19/20\n",
            "66/66 [==============================] - 4s 68ms/step - loss: 1.1900e-04\n",
            "Epoch 20/20\n",
            "66/66 [==============================] - 4s 60ms/step - loss: 1.1596e-04\n"
          ]
        },
        {
          "output_type": "execute_result",
          "data": {
            "text/plain": [
              "<keras.callbacks.History at 0x7fb2bbbd43a0>"
            ]
          },
          "metadata": {},
          "execution_count": 18
        }
      ]
    },
    {
      "cell_type": "code",
      "source": [
        "#Create the test data set\n",
        "\n",
        "test_data = scaled_data[training_data_len - 60:, :]\n"
      ],
      "metadata": {
        "id": "yVh4jzlRjynZ"
      },
      "execution_count": null,
      "outputs": []
    },
    {
      "cell_type": "code",
      "source": [
        "#create the data sets x_test and y_test\n",
        "x_test = []\n",
        "y_test = dataset[training_data_len:, :]\n",
        "\n",
        "for i in range(60, len(test_data)):\n",
        "    x_test.append(test_data[i-60:i, 0])"
      ],
      "metadata": {
        "id": "l-m-43GXj1el"
      },
      "execution_count": null,
      "outputs": []
    },
    {
      "cell_type": "code",
      "source": [
        "#convert the data to a numpy array\n",
        "x_test = np.array(x_test)\n",
        "\n",
        "#reshape the data\n",
        "x_test = np.reshape(x_test, (x_test.shape[0], x_test.shape[1], 1))"
      ],
      "metadata": {
        "id": "XWpD56tbj4fx"
      },
      "execution_count": null,
      "outputs": []
    },
    {
      "cell_type": "code",
      "source": [
        "# Get the model's predicted price values\n",
        "predictions = model.predict(x_test)\n",
        "\n",
        "predictions = scaler.inverse_transform(predictions)\n",
        "\n",
        "# Get the root mean squared error (RMSE)\n",
        "rmse = np.sqrt(np.mean((predictions - y_test)**2))\n",
        "rmse"
      ],
      "metadata": {
        "id": "FV98g5PPj764",
        "outputId": "89c1a8f6-a3b8-46c1-eca8-0466e8d6cb2a",
        "colab": {
          "base_uri": "https://localhost:8080/"
        }
      },
      "execution_count": null,
      "outputs": [
        {
          "output_type": "stream",
          "name": "stdout",
          "text": [
            "17/17 [==============================] - 1s 19ms/step\n"
          ]
        },
        {
          "output_type": "execute_result",
          "data": {
            "text/plain": [
              "5.391558971853224"
            ]
          },
          "metadata": {},
          "execution_count": 23
        }
      ]
    },
    {
      "cell_type": "code",
      "source": [
        "#plot the data\n",
        "train = data[:training_data_len]\n",
        "valid = data[training_data_len:]\n",
        "valid[\"Predictions\"] = predictions\n",
        "#visualise the data\n",
        "\n",
        "plt.figure(figsize=(16,8))\n",
        "plt.title(\"Model\")\n",
        "plt.xlabel(\"Date\", fontsize = 18)\n",
        "plt.ylabel(\"Close Price USD($)\", fontsize = 18)\n",
        "plt.plot(train[\"Close\"])\n",
        "plt.plot(valid[[\"Close\", \"Predictions\"]])\n",
        "plt.legend([\"Train\", \"Val\", \"Predictions\"], loc=\"lower right\")\n",
        "plt.show()"
      ],
      "metadata": {
        "id": "bJf7cqKzj-Ep",
        "outputId": "3269dc68-0a43-4133-8be2-8fb5e4e21d93",
        "colab": {
          "base_uri": "https://localhost:8080/",
          "height": 566
        }
      },
      "execution_count": null,
      "outputs": [
        {
          "output_type": "stream",
          "name": "stderr",
          "text": [
            "<ipython-input-28-989c294a4d46>:4: SettingWithCopyWarning: \n",
            "A value is trying to be set on a copy of a slice from a DataFrame.\n",
            "Try using .loc[row_indexer,col_indexer] = value instead\n",
            "\n",
            "See the caveats in the documentation: https://pandas.pydata.org/pandas-docs/stable/user_guide/indexing.html#returning-a-view-versus-a-copy\n",
            "  valid[\"Predictions\"] = predictions\n"
          ]
        },
        {
          "output_type": "display_data",
          "data": {
            "text/plain": [
              "<Figure size 1600x800 with 1 Axes>"
            ],
            "image/png": "[encoded data removed]"
          },
          "metadata": {}
        }
      ]
    },
    {
      "cell_type": "code",
      "source": [
        "\n",
        "#Show the valid and predicted prices\n",
        "valid"
      ],
      "metadata": {
        "id": "AzdpYqOGkCnq",
        "outputId": "c5b3c8ff-fb4a-4d62-d544-410b5f8f16af",
        "colab": {
          "base_uri": "https://localhost:8080/",
          "height": 455
        }
      },
      "execution_count": null,
      "outputs": [
        {
          "output_type": "execute_result",
          "data": {
            "text/plain": [
              "                 Close  Predictions\n",
              "Date                               \n",
              "2021-03-03  122.059998   127.556656\n",
              "2021-03-04  120.129997   127.163528\n",
              "2021-03-05  121.419998   126.436302\n",
              "2021-03-08  116.360001   125.876175\n",
              "2021-03-09  121.089996   124.670013\n",
              "...                ...          ...\n",
              "2023-04-12  160.100006   167.644135\n",
              "2023-04-13  165.559998   166.695984\n",
              "2023-04-14  165.210007   166.684967\n",
              "2023-04-17  165.229996   166.966766\n",
              "2023-04-18  166.470001   167.372009\n",
              "\n",
              "[536 rows x 2 columns]"
            ],
            "text/html": [
              "\n",
              "  <div id=\"df-97f44c58-9980-4a02-9623-558209ab94df\">\n",
              "    <div class=\"colab-df-container\">\n",
              "      <div>\n",
              "<style scoped>\n",
              "    .dataframe tbody tr th:only-of-type {\n",
              "        vertical-align: middle;\n",
              "    }\n",
              "\n",
              "    .dataframe tbody tr th {\n",
              "        vertical-align: top;\n",
              "    }\n",
              "\n",
              "    .dataframe thead th {\n",
              "        text-align: right;\n",
              "    }\n",
              "</style>\n",
              "<table border=\"1\" class=\"dataframe\">\n",
              "  <thead>\n",
              "    <tr style=\"text-align: right;\">\n",
              "      <th></th>\n",
              "      <th>Close</th>\n",
              "      <th>Predictions</th>\n",
              "    </tr>\n",
              "    <tr>\n",
              "      <th>Date</th>\n",
              "      <th></th>\n",
              "      <th></th>\n",
              "    </tr>\n",
              "  </thead>\n",
              "  <tbody>\n",
              "    <tr>\n",
              "      <th>2021-03-03</th>\n",
              "      <td>122.059998</td>\n",
              "      <td>127.556656</td>\n",
              "    </tr>\n",
              "    <tr>\n",
              "      <th>2021-03-04</th>\n",
              "      <td>120.129997</td>\n",
              "      <td>127.163528</td>\n",
              "    </tr>\n",
              "    <tr>\n",
              "      <th>2021-03-05</th>\n",
              "      <td>121.419998</td>\n",
              "      <td>126.436302</td>\n",
              "    </tr>\n",
              "    <tr>\n",
              "      <th>2021-03-08</th>\n",
              "      <td>116.360001</td>\n",
              "      <td>125.876175</td>\n",
              "    </tr>\n",
              "    <tr>\n",
              "      <th>2021-03-09</th>\n",
              "      <td>121.089996</td>\n",
              "      <td>124.670013</td>\n",
              "    </tr>\n",
              "    <tr>\n",
              "      <th>...</th>\n",
              "      <td>...</td>\n",
              "      <td>...</td>\n",
              "    </tr>\n",
              "    <tr>\n",
              "      <th>2023-04-12</th>\n",
              "      <td>160.100006</td>\n",
              "      <td>167.644135</td>\n",
              "    </tr>\n",
              "    <tr>\n",
              "      <th>2023-04-13</th>\n",
              "      <td>165.559998</td>\n",
              "      <td>166.695984</td>\n",
              "    </tr>\n",
              "    <tr>\n",
              "      <th>2023-04-14</th>\n",
              "      <td>165.210007</td>\n",
              "      <td>166.684967</td>\n",
              "    </tr>\n",
              "    <tr>\n",
              "      <th>2023-04-17</th>\n",
              "      <td>165.229996</td>\n",
              "      <td>166.966766</td>\n",
              "    </tr>\n",
              "    <tr>\n",
              "      <th>2023-04-18</th>\n",
              "      <td>166.470001</td>\n",
              "      <td>167.372009</td>\n",
              "    </tr>\n",
              "  </tbody>\n",
              "</table>\n",
              "<p>536 rows × 2 columns</p>\n",
              "</div>\n",
              "      <button class=\"colab-df-convert\" onclick=\"convertToInteractive('df-97f44c58-9980-4a02-9623-558209ab94df')\"\n",
              "              title=\"Convert this dataframe to an interactive table.\"\n",
              "              style=\"display:none;\">\n",
              "        \n",
              "  <svg xmlns=\"http://www.w3.org/2000/svg\" height=\"24px\"viewBox=\"0 0 24 24\"\n",
              "       width=\"24px\">\n",
              "    <path d=\"M0 0h24v24H0V0z\" fill=\"none\"/>\n",
              "    <path d=\"M18.56 5.44l.94 2.06.94-2.06 2.06-.94-2.06-.94-.94-2.06-.94 2.06-2.06.94zm-11 1L8.5 8.5l.94-2.06 2.06-.94-2.06-.94L8.5 2.5l-.94 2.06-2.06.94zm10 10l.94 2.06.94-2.06 2.06-.94-2.06-.94-.94-2.06-.94 2.06-2.06.94z\"/><path d=\"M17.41 7.96l-1.37-1.37c-.4-.4-.92-.59-1.43-.59-.52 0-1.04.2-1.43.59L10.3 9.45l-7.72 7.72c-.78.78-.78 2.05 0 2.83L4 21.41c.39.39.9.59 1.41.59.51 0 1.02-.2 1.41-.59l7.78-7.78 2.81-2.81c.8-.78.8-2.07 0-2.86zM5.41 20L4 18.59l7.72-7.72 1.47 1.35L5.41 20z\"/>\n",
              "  </svg>\n",
              "      </button>\n",
              "      \n",
              "  <style>\n",
              "    .colab-df-container {\n",
              "      display:flex;\n",
              "      flex-wrap:wrap;\n",
              "      gap: 12px;\n",
              "    }\n",
              "\n",
              "    .colab-df-convert {\n",
              "      background-color: #E8F0FE;\n",
              "      border: none;\n",
              "      border-radius: 50%;\n",
              "      cursor: pointer;\n",
              "      display: none;\n",
              "      fill: #1967D2;\n",
              "      height: 32px;\n",
              "      padding: 0 0 0 0;\n",
              "      width: 32px;\n",
              "    }\n",
              "\n",
              "    .colab-df-convert:hover {\n",
              "      background-color: #E2EBFA;\n",
              "      box-shadow: 0px 1px 2px rgba(60, 64, 67, 0.3), 0px 1px 3px 1px rgba(60, 64, 67, 0.15);\n",
              "      fill: #174EA6;\n",
              "    }\n",
              "\n",
              "    [theme=dark] .colab-df-convert {\n",
              "      background-color: #3B4455;\n",
              "      fill: #D2E3FC;\n",
              "    }\n",
              "\n",
              "    [theme=dark] .colab-df-convert:hover {\n",
              "      background-color: #434B5C;\n",
              "      box-shadow: 0px 1px 3px 1px rgba(0, 0, 0, 0.15);\n",
              "      filter: drop-shadow(0px 1px 2px rgba(0, 0, 0, 0.3));\n",
              "      fill: #FFFFFF;\n",
              "    }\n",
              "  </style>\n",
              "\n",
              "      <script>\n",
              "        const buttonEl =\n",
              "          document.querySelector('#df-97f44c58-9980-4a02-9623-558209ab94df button.colab-df-convert');\n",
              "        buttonEl.style.display =\n",
              "          google.colab.kernel.accessAllowed ? 'block' : 'none';\n",
              "\n",
              "        async function convertToInteractive(key) {\n",
              "          const element = document.querySelector('#df-97f44c58-9980-4a02-9623-558209ab94df');\n",
              "          const dataTable =\n",
              "            await google.colab.kernel.invokeFunction('convertToInteractive',\n",
              "                                                     [key], {});\n",
              "          if (!dataTable) return;\n",
              "\n",
              "          const docLinkHtml = 'Like what you see? Visit the ' +\n",
              "            '<a target=\"_blank\" href=https://colab.research.google.com/notebooks/data_table.ipynb>data table notebook</a>'\n",
              "            + ' to learn more about interactive tables.';\n",
              "          element.innerHTML = '';\n",
              "          dataTable['output_type'] = 'display_data';\n",
              "          await google.colab.output.renderOutput(dataTable, element);\n",
              "          const docLink = document.createElement('div');\n",
              "          docLink.innerHTML = docLinkHtml;\n",
              "          element.appendChild(docLink);\n",
              "        }\n",
              "      </script>\n",
              "    </div>\n",
              "  </div>\n",
              "  "
            ]
          },
          "metadata": {},
          "execution_count": 29
        }
      ]
    },
    {
      "cell_type": "code",
      "source": [
        "#Get the quote\n",
        "apple_quote = yf.download('AAPL', start='2012-08-19', end='2023-04-19')\n",
        "\n",
        "#Create a new dataframe\n",
        "new_df = apple_quote.filter([\"Close\"])\n",
        "\n",
        "#Get the last 60 days losing price values and convert the dataframe to an array\n",
        "last_60_days = new_df[-60:].values\n",
        "\n",
        "#scale the data to be values between 0 and 1\n",
        "last_60_days_scaled = scaler.transform(last_60_days)\n",
        "\n",
        "#Create an empty list\n",
        "X_test = []\n",
        "\n",
        "#Append the past 60 days\n",
        "X_test.append(last_60_days_scaled)\n",
        "\n",
        "X_test = np.array(X_test)\n",
        "\n",
        "#Convert the X_test data set to a numpy array\n",
        "X_test = np.reshape(X_test, (X_test.shape[0], X_test.shape[1],1))\n",
        "\n",
        "#Get the predicted scaled price\n",
        "pred_price = model.predict(X_test)\n",
        "#Undo the scaling\n",
        "pred_price = scaler.inverse_transform(pred_price)\n",
        "print(pred_price)"
      ],
      "metadata": {
        "id": "XTfHpnRpkeQP",
        "outputId": "ed57acee-5dfd-4bf9-f1ee-de86acb5cc58",
        "colab": {
          "base_uri": "https://localhost:8080/"
        }
      },
      "execution_count": null,
      "outputs": [
        {
          "output_type": "stream",
          "name": "stdout",
          "text": [
            "[*********************100%***********************]  1 of 1 completed\n",
            "1/1 [==============================] - 0s 32ms/step\n",
            "[[167.99904]]\n"
          ]
        }
      ]
    },
    {
      "cell_type": "code",
      "source": [
        "apple_quote2 = yf.download('AAPL', start='2023-04-20', end='2023-04-20')\n",
        "print(apple_quote2[\"Close\"])"
      ],
      "metadata": {
        "id": "fh3uGO_ykoDN",
        "outputId": "22b33b19-9a00-4d85-de8a-852c2b41a824",
        "colab": {
          "base_uri": "https://localhost:8080/"
        }
      },
      "execution_count": null,
      "outputs": [
        {
          "output_type": "stream",
          "name": "stdout",
          "text": [
            "\r[*********************100%***********************]  1 of 1 completed\n",
            "Date\n",
            "2023-04-19    167.630005\n",
            "Name: Close, dtype: float64\n"
          ]
        }
      ]
    },
    {
      "cell_type": "code",
      "source": [
        "# Get the absolute errors between predictions and actual values\n",
        "abs_errors = np.abs(predictions - y_test)\n",
        "\n",
        "# Calculate the mean absolute percentage error (MAPE)\n",
        "mape = np.mean(abs_errors / y_test) * 100\n",
        "\n",
        "# Calculate the percentage accuracy\n",
        "accuracy = 100 - mape\n",
        "\n",
        "# Print the percentage accuracy\n",
        "print(\"Percentage Accuracy: {:.2f}%\".format(accuracy))\n"
      ],
      "metadata": {
        "id": "DQI3zS4htmfR",
        "outputId": "da7bd951-3ffd-46a6-9496-f4d8b1c6f189",
        "colab": {
          "base_uri": "https://localhost:8080/"
        }
      },
      "execution_count": null,
      "outputs": [
        {
          "output_type": "stream",
          "name": "stdout",
          "text": [
            "Percentage Accuracy: 97.05%\n"
          ]
        }
      ]
    }
  ],
  "metadata": {
    "colab": {
      "provenance": []
    },
    "kernelspec": {
      "display_name": "Python 3",
      "name": "python3"
    }
  },
  "nbformat": 4,
  "nbformat_minor": 0
}